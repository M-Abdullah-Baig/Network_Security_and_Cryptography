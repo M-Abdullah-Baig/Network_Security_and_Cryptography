{
 "cells": [
  {
   "cell_type": "code",
   "execution_count": null,
   "id": "1cd86032",
   "metadata": {},
   "outputs": [],
   "source": []
  },
  {
   "cell_type": "code",
   "execution_count": 5,
   "id": "a7f26e1b",
   "metadata": {},
   "outputs": [
    {
     "name": "stdout",
     "output_type": "stream",
     "text": [
      "Enter the plain text: Learn from yesterday!\n",
      "Enter the key: NETWORK\n",
      "Encrypted Message: eoefs!Lrtnya eyamrr d\n",
      "Decrypted Message: Learn from yesterday!\n"
     ]
    }
   ],
   "source": [
    "\n",
    "# Columnar Transposition cipher implementation\n",
    "\n",
    "import math\n",
    "\n",
    "def encrypt_message(message, key):\n",
    "    cipher = \"\"\n",
    "    k_index = 0\n",
    "    message_length = float(len(message))\n",
    "    message_list = list(message)\n",
    "    key_list = sorted(list(key))\n",
    "    col = len(key)\n",
    "    row = int(math.ceil(message_length / col))\n",
    "    fill_null = int((row * col) - message_length)\n",
    "    message_list.extend('_' * fill_null)\n",
    "    matrix = [message_list[i: i + col] for i in range(0, len(message_list), col)]\n",
    "    for _ in range(col):\n",
    "        curr_index = key.index(key_list[k_index])\n",
    "        cipher += ''.join([row[curr_index] for row in matrix])\n",
    "        k_index += 1\n",
    "    return cipher\n",
    "\n",
    "def decrypt_message(cipher, key):\n",
    "    message = \"\"\n",
    "    k_index = 0\n",
    "    msg_index = 0\n",
    "    message_length = float(len(cipher))\n",
    "    message_list = list(cipher)\n",
    "    col = len(key)\n",
    "    row = int(math.ceil(message_length / col))\n",
    "    key_list = sorted(list(key))\n",
    "    dec_cipher = []\n",
    "    for _ in range(row):\n",
    "        dec_cipher += [[None] * col]\n",
    "    for _ in range(col):\n",
    "        curr_index = key.index(key_list[k_index])\n",
    "        for j in range(row):\n",
    "            dec_cipher[j][curr_index] = message_list[msg_index]\n",
    "            msg_index += 1\n",
    "        k_index += 1\n",
    "    try:\n",
    "        message = ''.join(sum(dec_cipher, []))\n",
    "    except TypeError:\n",
    "        raise TypeError(\"This program cannot handle repeating words.\")\n",
    "    null_count = message.count('_')\n",
    "    if null_count > 0:\n",
    "        return message[: -null_count]\n",
    "    return message\n",
    "\n",
    "# main()\n",
    "\n",
    "message = str(input(\"Enter the plain text: \"))\n",
    "key = str(input(\"Enter the key: \"))\n",
    "\n",
    "encrypted_message = encrypt_message(message, key)\n",
    "print(\"Encrypted Message: {}\".format(encrypted_message))\n",
    "\n",
    "decrypted_message = decrypt_message(encrypted_message, key)\n",
    "print(\"Decrypted Message: {}\".format(decrypted_message))\n"
   ]
  },
  {
   "cell_type": "code",
   "execution_count": null,
   "id": "934b7401",
   "metadata": {},
   "outputs": [],
   "source": []
  },
  {
   "cell_type": "code",
   "execution_count": null,
   "id": "6fc670dc",
   "metadata": {},
   "outputs": [],
   "source": []
  }
 ],
 "metadata": {
  "kernelspec": {
   "display_name": "Python 3 (ipykernel)",
   "language": "python",
   "name": "python3"
  },
  "language_info": {
   "codemirror_mode": {
    "name": "ipython",
    "version": 3
   },
   "file_extension": ".py",
   "mimetype": "text/x-python",
   "name": "python",
   "nbconvert_exporter": "python",
   "pygments_lexer": "ipython3",
   "version": "3.9.7"
  }
 },
 "nbformat": 4,
 "nbformat_minor": 5
}
