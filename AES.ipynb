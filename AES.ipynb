{
 "cells": [
  {
   "cell_type": "markdown",
   "id": "fe0116d2",
   "metadata": {},
   "source": [
    "# AES algorithm implementation"
   ]
  },
  {
   "cell_type": "code",
   "execution_count": 7,
   "id": "b5a67387",
   "metadata": {},
   "outputs": [
    {
     "name": "stdout",
     "output_type": "stream",
     "text": [
      "Collecting pycryptodome\n",
      "  Downloading pycryptodome-3.20.0-cp35-abi3-win_amd64.whl (1.8 MB)\n",
      "Installing collected packages: pycryptodome\n",
      "Successfully installed pycryptodome-3.20.0\n"
     ]
    }
   ],
   "source": [
    "!pip install pycryptodome"
   ]
  },
  {
   "cell_type": "code",
   "execution_count": 3,
   "id": "ac7b6974",
   "metadata": {},
   "outputs": [
    {
     "name": "stdout",
     "output_type": "stream",
     "text": [
      "Enter the plaintext: Today, We have a class of Network Security.\n",
      "Plaintext: Today, We have a class of Network Security.\n",
      "IV: I6oSgbK4EaEVCHC2y+dGVQ==\n",
      "Encrypted message: wPfuudJq1aVYUgiuT3sBnkseSWudebqPUUg3bG4eQsdDB42SPFMaS6zPZMZ2HjD3\n",
      "Decrypted message: Today, We have a class of Network Security.\n"
     ]
    }
   ],
   "source": [
    "\n",
    "# AES algorithm implementation\n",
    "\n",
    "from Crypto.Cipher import AES\n",
    "from Crypto.Random import get_random_bytes\n",
    "from Crypto.Util.Padding import pad, unpad\n",
    "import base64\n",
    "\n",
    "def aes_encrypt(plaintext, key):\n",
    "    cipher = AES.new(key, AES.MODE_CBC)\n",
    "    ciphertext_bytes = cipher.encrypt(pad(plaintext.encode(), AES.block_size))\n",
    "    iv = base64.b64encode(cipher.iv).decode('utf-8')\n",
    "    ciphertext = base64.b64encode(ciphertext_bytes).decode('utf-8')\n",
    "    return iv, ciphertext\n",
    "\n",
    "def aes_decrypt(iv, ciphertext, key):\n",
    "    cipher = AES.new(key, AES.MODE_CBC, base64.b64decode(iv))\n",
    "    ciphertext_bytes = base64.b64decode(ciphertext)\n",
    "    plaintext_bytes = unpad(cipher.decrypt(ciphertext_bytes), AES.block_size)\n",
    "    plaintext = plaintext_bytes.decode('utf-8')\n",
    "    return plaintext\n",
    "\n",
    "# Example usage\n",
    "key = get_random_bytes(16)  # Generating a random 128-bit key\n",
    "plaintext = input(\"Enter the plaintext: \")\n",
    "print(\"Plaintext:\", plaintext)\n",
    "\n",
    "iv, ciphertext = aes_encrypt(plaintext, key)\n",
    "print(\"IV:\", iv)\n",
    "print(\"Encrypted message:\", ciphertext)\n",
    "\n",
    "decrypted_text = aes_decrypt(iv, ciphertext, key)\n",
    "print(\"Decrypted message:\", decrypted_text)\n"
   ]
  },
  {
   "cell_type": "code",
   "execution_count": null,
   "id": "e9b43ccf",
   "metadata": {},
   "outputs": [],
   "source": []
  }
 ],
 "metadata": {
  "kernelspec": {
   "display_name": "Python 3 (ipykernel)",
   "language": "python",
   "name": "python3"
  },
  "language_info": {
   "codemirror_mode": {
    "name": "ipython",
    "version": 3
   },
   "file_extension": ".py",
   "mimetype": "text/x-python",
   "name": "python",
   "nbconvert_exporter": "python",
   "pygments_lexer": "ipython3",
   "version": "3.9.7"
  }
 },
 "nbformat": 4,
 "nbformat_minor": 5
}
