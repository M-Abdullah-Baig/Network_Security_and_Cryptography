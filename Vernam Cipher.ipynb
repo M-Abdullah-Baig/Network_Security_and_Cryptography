{
 "cells": [
  {
   "cell_type": "code",
   "execution_count": null,
   "id": "af6a1d82",
   "metadata": {},
   "outputs": [],
   "source": []
  },
  {
   "cell_type": "code",
   "execution_count": 11,
   "id": "f98ad3a5",
   "metadata": {},
   "outputs": [
    {
     "name": "stdout",
     "output_type": "stream",
     "text": [
      "Enter the message: BLACK\n",
      "Enter the key: WHITE\n",
      "The encrypted message is: XSIVO\n"
     ]
    }
   ],
   "source": [
    "\n",
    "# Vernam Cipher (Lab 3)\n",
    "\n",
    "# Encryption\n",
    "\n",
    "def generate_key(string, key):\n",
    "    key = list(key)\n",
    "\n",
    "    if len(string) == len(key):\n",
    "        return \"\".join(key)\n",
    "    else:\n",
    "        for i in range(len(string) - len(key)):\n",
    "            key.append(key[i % len(key)])\n",
    "\n",
    "    return \"\".join(key)\n",
    "\n",
    "message = input(\"Enter the message: \")\n",
    "key = input(\"Enter the key: \")\n",
    "\n",
    "# Use the generate_key function to create the key\n",
    "key = generate_key(message, key)\n",
    "\n",
    "ans = \"\"\n",
    "for i in range(len(message)):\n",
    "    ans += chr((ord(key[i]) - ord('A') + ord(message[i]) - ord('A')) % 26 + ord('A'))\n",
    "\n",
    "print(\"The encrypted message is:\", ans)\n"
   ]
  },
  {
   "cell_type": "code",
   "execution_count": 12,
   "id": "30aab48d",
   "metadata": {},
   "outputs": [
    {
     "name": "stdout",
     "output_type": "stream",
     "text": [
      "Enter the message: XSIVO\n",
      "Enter the key: WHITE\n",
      "The decrypted message is: BLACK\n"
     ]
    }
   ],
   "source": [
    "\n",
    "# Decryption\n",
    "\n",
    "def generate_key(string, key):\n",
    "    key = list(key)\n",
    "\n",
    "    if len(string) == len(key):\n",
    "        return \"\".join(key)\n",
    "    else:\n",
    "        for i in range(len(string) - len(key)):\n",
    "            key.append(key[i % len(key)])\n",
    "\n",
    "    return \"\".join(key)\n",
    "\n",
    "message = input(\"Enter the message: \")\n",
    "key = input(\"Enter the key: \")\n",
    "\n",
    "# Use the generate_key function to create the key\n",
    "key = generate_key(message, key)\n",
    "\n",
    "ans = \"\"\n",
    "for i in range(len(message)):\n",
    "    ans += chr((ord(message[i]) - ord(key[i]) + 26) % 26 + ord('A'))\n",
    "\n",
    "print(\"The decrypted message is:\", ans)\n"
   ]
  },
  {
   "cell_type": "code",
   "execution_count": null,
   "id": "d3cb40ea",
   "metadata": {},
   "outputs": [],
   "source": []
  }
 ],
 "metadata": {
  "kernelspec": {
   "display_name": "Python 3 (ipykernel)",
   "language": "python",
   "name": "python3"
  },
  "language_info": {
   "codemirror_mode": {
    "name": "ipython",
    "version": 3
   },
   "file_extension": ".py",
   "mimetype": "text/x-python",
   "name": "python",
   "nbconvert_exporter": "python",
   "pygments_lexer": "ipython3",
   "version": "3.9.7"
  }
 },
 "nbformat": 4,
 "nbformat_minor": 5
}
