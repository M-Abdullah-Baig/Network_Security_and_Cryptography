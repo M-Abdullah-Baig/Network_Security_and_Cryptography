{
 "cells": [
  {
   "cell_type": "code",
   "execution_count": 1,
   "id": "aa13b1af",
   "metadata": {},
   "outputs": [],
   "source": []
  },
  {
   "cell_type": "code",
   "execution_count": 14,
   "id": "44c4eb97",
   "metadata": {},
   "outputs": [],
   "source": [
    "# Caesar Cipher Algorithm\n",
    "\n",
    "def encrypt(key, message):\n",
    "    message = message.upper()\n",
    "    alphabet = \"ABCDEFGHIJKLMNOPQRSTUVWXYZ\"\n",
    "    result = \"\"\n",
    "\n",
    "    for letter in message:\n",
    "        if letter in alphabet:\n",
    "            \n",
    "            # e(x) = (x + k) % 26\n",
    "            letter_index = (alphabet.find(letter) + key) % 26      \n",
    "\n",
    "            result = result + alphabet[letter_index]\n",
    "        else:\n",
    "            result = result + letter\n",
    "\n",
    "    return result\n",
    "\n",
    "def decrypt(key, message):\n",
    "    message = message.upper()\n",
    "    alphabet = \"ABCDEFGHIJKLMNOPQRSTUVWXYZ\"\n",
    "    result = \"\"\n",
    "\n",
    "    for letter in message:\n",
    "        if letter in alphabet: \n",
    "            \n",
    "            # d(x) = (x - k) % 26\n",
    "            letter_index = (alphabet.find(letter) - key) % 26       \n",
    "\n",
    "            result = result + alphabet[letter_index]\n",
    "        else:\n",
    "            result = result + letter\n",
    "\n",
    "    return result"
   ]
  },
  {
   "cell_type": "code",
   "execution_count": 16,
   "id": "4e7b1ef2",
   "metadata": {},
   "outputs": [
    {
     "name": "stdout",
     "output_type": "stream",
     "text": [
      "Enter the plain text : ATTACK AT DON\n",
      "Enter the key : 3\n",
      "The cipher text after encryption is : DWWDFN DW GRQ\n",
      "The plain text after decryption is :  ATTACK AT DON\n"
     ]
    }
   ],
   "source": [
    "def main():\n",
    "    word = input(\"Enter the plain text : \")\n",
    "    key = int(input(\"Enter the key : \"))\n",
    "    \n",
    "    \n",
    "    encrypted = encrypt(key, word)\n",
    "    print(\"The cipher text after encryption is :\", encrypted) \n",
    "\n",
    "    \n",
    "    decrypted = decrypt(key, encrypted)\n",
    "    print(\"The plain text after decryption is : \", decrypted) \n",
    "\n",
    "if __name__ == \"__main__\":\n",
    "    main()"
   ]
  },
  {
   "cell_type": "code",
   "execution_count": null,
   "id": "710abeaf",
   "metadata": {},
   "outputs": [],
   "source": []
  }
 ],
 "metadata": {
  "kernelspec": {
   "display_name": "Python 3 (ipykernel)",
   "language": "python",
   "name": "python3"
  },
  "language_info": {
   "codemirror_mode": {
    "name": "ipython",
    "version": 3
   },
   "file_extension": ".py",
   "mimetype": "text/x-python",
   "name": "python",
   "nbconvert_exporter": "python",
   "pygments_lexer": "ipython3",
   "version": "3.9.7"
  }
 },
 "nbformat": 4,
 "nbformat_minor": 5
}
