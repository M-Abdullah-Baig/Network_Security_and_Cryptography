{
 "cells": [
  {
   "cell_type": "code",
   "execution_count": null,
   "id": "424811ee",
   "metadata": {},
   "outputs": [],
   "source": [
    "# LAB 02"
   ]
  },
  {
   "cell_type": "code",
   "execution_count": 1,
   "id": "4dd83f54",
   "metadata": {},
   "outputs": [
    {
     "name": "stdout",
     "output_type": "stream",
     "text": [
      "Enter the string: NETWORK\n",
      "Enter the key: BAT\n",
      "Ciphertext: OEMXOKL\n",
      "Original/Decrypted Text: NETWORK\n"
     ]
    }
   ],
   "source": [
    "\n",
    "# Vigenere Cipher\n",
    "\n",
    "def generateKey(string, key):\n",
    "    # Convert the key string into a list of characters\n",
    "    key = list(key)\n",
    "    \n",
    "    # Check if the length of the input string is equal to the length of the key\n",
    "    if len(string) == len(key):\n",
    "        return key\n",
    "    else:\n",
    "        # If the lengths are not equal, repeat or truncate the key to match the length of the string\n",
    "        for i in range(len(string) - len(key)):\n",
    "            key.append(key[i % len(key)])\n",
    "    \n",
    "    # Convert the list of characters back to a string and return the generated key\n",
    "    return (\"\".join(key))\n",
    "\n",
    "\n",
    "def cipherText(string, key):\n",
    "    cipher_text = []\n",
    "    \n",
    "    # Iterate through each character in the input string\n",
    "    for i in range(len(string)):\n",
    "        # Calculate the new character using the vigener cipher algorithm\n",
    "        x = (ord(string[i]) + ord(key[i])) % 26             # Ei = (Pi + ki) mod 26\n",
    "        x += ord('A')  # Convert the result back to ASCII value\n",
    "        \n",
    "        # Append the encrypted character to the cipher_text list\n",
    "        cipher_text.append(chr(x))\n",
    "    \n",
    "    # Convert the list of characters back to a string and return the encrypted text\n",
    "    return (\"\".join(cipher_text))\n",
    "\n",
    "\n",
    "def decryptText(cipher_text, key):\n",
    "    decrypt_text = []\n",
    "    \n",
    "    # Iterate through each character in the cipher text\n",
    "    for i in range(len(cipher_text)):\n",
    "        # Calculate the original character using the vigener cipher algorithm\n",
    "        x = (ord(cipher_text[i]) - ord(key[i]) + 26) % 26       # Di = (Ei - ki + 26) mod 26\n",
    "        x += ord('A')  # Convert the result back to ASCII value\n",
    "        \n",
    "        # Append the decrypted character to the decrypt_text list\n",
    "        decrypt_text.append(chr(x))\n",
    "    \n",
    "    # Convert the list of characters back to a string and return the decrypted text\n",
    "    return (\"\".join(decrypt_text))\n",
    "\n",
    "\n",
    "if __name__ == \"__main__\":\n",
    "    # Get user input for the string and key\n",
    "    string = input(\"Enter the string: \")\n",
    "    keyword = input(\"Enter the key: \")\n",
    "    \n",
    "    # Generate a key based on the input string and keyword\n",
    "    key = generateKey(string, keyword)\n",
    "    \n",
    "    # Encrypt the input string using the generated key\n",
    "    cipher_text = cipherText(string, key)\n",
    "    \n",
    "    # Print the ciphertext\n",
    "    print(\"Ciphertext:\", cipher_text)\n",
    "    \n",
    "    # Decrypt the ciphertext using the generated key and print the original text\n",
    "    print(\"Original/Decrypted Text:\", decryptText(cipher_text, key))\n",
    "\n"
   ]
  },
  {
   "cell_type": "code",
   "execution_count": null,
   "id": "4e72535a",
   "metadata": {},
   "outputs": [],
   "source": []
  },
  {
   "cell_type": "code",
   "execution_count": null,
   "id": "8ae83962",
   "metadata": {},
   "outputs": [],
   "source": [
    "# Illustrate with an example\n",
    "\n",
    "\n",
    "'''\n",
    "example:-\n",
    "\n",
    "string = \"HELLO\"\n",
    "key = \"KEY\"\n",
    "\n",
    "code:-\n",
    "\n",
    "for i in range(len(string) - len(key)):\n",
    "    key.append(key[i % len(key)])\n",
    "\n",
    "Explaination:-\n",
    "\n",
    "The loop will run for range(5 - 3), which means it will run for 2 iterations. Here's how the loop works:\n",
    "\n",
    "Iteration 1 (i = 0):\n",
    "\n",
    "key.append(key[0 % 3]): Appends the character at index 0 of the original key to the key itself. The key becomes \"KEYK.\"\n",
    "Iteration 2 (i = 1):\n",
    "\n",
    "key.append(key[1 % 3]): Appends the character at index 1 of the original key to the key itself. The key becomes \"KEYKE.\"\n",
    "'''"
   ]
  }
 ],
 "metadata": {
  "kernelspec": {
   "display_name": "Python 3 (ipykernel)",
   "language": "python",
   "name": "python3"
  },
  "language_info": {
   "codemirror_mode": {
    "name": "ipython",
    "version": 3
   },
   "file_extension": ".py",
   "mimetype": "text/x-python",
   "name": "python",
   "nbconvert_exporter": "python",
   "pygments_lexer": "ipython3",
   "version": "3.9.7"
  }
 },
 "nbformat": 4,
 "nbformat_minor": 5
}
